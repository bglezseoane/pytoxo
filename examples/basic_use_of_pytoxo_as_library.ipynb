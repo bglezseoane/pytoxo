{
 "cells": [
  {
   "cell_type": "markdown",
   "metadata": {},
   "source": [
    "# PyToxo use example as library\n",
    "\n",
    "In this Jupyter Notebook we illustrate the use of PyToxo, as library, with some of the models saved within this repository."
   ]
  },
  {
   "cell_type": "markdown",
   "source": [
    "## Step by step with a first example"
   ],
   "metadata": {
    "collapsed": false
   }
  },
  {
   "cell_type": "markdown",
   "metadata": {
    "pycharm": {
     "name": "#%% md\n"
    }
   },
   "source": [
    "The first is the first: let's import the PyToxo library."
   ]
  },
  {
   "cell_type": "code",
   "execution_count": 1,
   "metadata": {
    "pycharm": {
     "name": "#%%\n"
    }
   },
   "outputs": [],
   "source": [
    "import pytoxo"
   ]
  },
  {
   "cell_type": "markdown",
   "metadata": {
    "pycharm": {
     "name": "#%% md\n"
    }
   },
   "source": [
    "Now we can build a PyToxo object model using a model CSV file. We are going to use `models/additive_3.csv`. It is also possible to directly input a Python dictionary with the parameters of your model —we will do it in the second example—."
   ]
  },
  {
   "cell_type": "code",
   "execution_count": 2,
   "metadata": {
    "pycharm": {
     "name": "#%%\n"
    }
   },
   "outputs": [],
   "source": [
    "eg_model_file = \"../models/additive_3.csv\"\n",
    "eg_model = pytoxo.Model(filename=eg_model_file)"
   ]
  },
  {
   "cell_type": "markdown",
   "metadata": {},
   "source": [
    "We can examine some properties of our `model` object:"
   ]
  },
  {
   "cell_type": "code",
   "execution_count": 3,
   "metadata": {
    "pycharm": {
     "name": "#%%\n"
    }
   },
   "outputs": [
    {
     "name": "stdout",
     "output_type": "stream",
     "text": [
      "additive_3\n",
      "3\n",
      "[x, y]\n",
      "[x, x*(y + 1), x*(y + 1)**2, x*(y + 1), x*(y + 1)**2, x*(y + 1)**3, x*(y + 1)**2, x*(y + 1)**3, x*(y + 1)**4, x*(y + 1), x*(y + 1)**2, x*(y + 1)**3, x*(y + 1)**2, x*(y + 1)**3, x*(y + 1)**4, x*(y + 1)**3, x*(y + 1)**4, x*(y + 1)**5, x*(y + 1)**2, x*(y + 1)**3, x*(y + 1)**4, x*(y + 1)**3, x*(y + 1)**4, x*(y + 1)**5, x*(y + 1)**4, x*(y + 1)**5, x*(y + 1)**6]\n"
     ]
    }
   ],
   "source": [
    "print(eg_model.name)\n",
    "print(eg_model.order)\n",
    "print(eg_model.variables)\n",
    "print(eg_model.penetrances)"
   ]
  },
  {
   "cell_type": "markdown",
   "metadata": {},
   "source": [
    "`model` exposes only two public methods:\n",
    "\n",
    "1. `find_max_prevalence_table`: computes the penetrance table whose prevalence is maximum for the given MAFs and heritability, and returns it as a `PTable` object.\n",
    "2. `find_max_heritability_table`: computes the penetrance table whose heritability is maximum for the given MAFs and prevalence, and returns it within a `PTable` object\n",
    "\n",
    "Let's play with the first one, `find_max_prevalence_table`, to obtain a penetrance table. We are going to use a MAF of 0.4 and a heritability of 0.85."
   ]
  },
  {
   "cell_type": "code",
   "execution_count": 4,
   "metadata": {
    "pycharm": {
     "name": "#%%\n"
    }
   },
   "outputs": [],
   "source": [
    "eg_mafs = [0.4, 0.4, 0.4]  # Dimension should coincide with model order\n",
    "eg_heritability = 0.85\n",
    "eg_ptable = eg_model.find_max_prevalence_table(mafs=eg_mafs, h=eg_heritability)"
   ]
  },
  {
   "cell_type": "markdown",
   "source": [
    "And here we have our `eg_ptable` penetrance table. Let's take a look at it:"
   ],
   "metadata": {
    "collapsed": false
   }
  },
  {
   "cell_type": "code",
   "execution_count": 5,
   "outputs": [
    {
     "name": "stdout",
     "output_type": "stream",
     "text": [
      "AABBCC,4.08906702591303E-11\n",
      "AABBCc,2.20302888340413E-9\n",
      "AABBcc,1.18690552890343E-7\n",
      "AABbCC,2.20302888340413E-9\n",
      "AABbCc,1.18690552890343E-7\n",
      "AABbcc,0.00000639458132008111\n",
      "AAbbCC,1.18690552890343E-7\n",
      "AAbbCc,0.00000639458132008111\n",
      "AAbbcc,0.000344514953072204\n",
      "AaBBCC,2.20302888340413E-9\n",
      "AaBBCc,1.18690552890343E-7\n",
      "AaBBcc,0.00000639458132008111\n",
      "AaBbCC,1.18690552890343E-7\n",
      "AaBbCc,0.00000639458132008111\n",
      "AaBbcc,0.000344514953072204\n",
      "AabbCC,0.00000639458132008111\n",
      "AabbCc,0.000344514953072204\n",
      "Aabbcc,0.0185611140040732\n",
      "aaBBCC,1.18690552890343E-7\n",
      "aaBBCc,0.00000639458132008111\n",
      "aaBBcc,0.000344514953072204\n",
      "aaBbCC,0.00000639458132008111\n",
      "aaBbCc,0.000344514953072204\n",
      "aaBbcc,0.0185611140040732\n",
      "aabbCC,0.000344514953072204\n",
      "aabbCc,0.0185611140040732\n",
      "aabbcc,1.00000000000000\n",
      "\n"
     ]
    }
   ],
   "source": [
    "eg_ptable.print_table()"
   ],
   "metadata": {
    "collapsed": false,
    "pycharm": {
     "name": "#%%\n"
    }
   }
  },
  {
   "cell_type": "markdown",
   "source": [
    "We could also save the table easily with the provided method `write_to_file`. And remember that unless you configure it to avoid it, PyToxo checks solutions, so if it can find a table, that table is correct within the program's accuracy margins."
   ],
   "metadata": {
    "collapsed": false
   }
  },
  {
   "cell_type": "markdown",
   "source": [
    "## All together with a second example\n",
    "\n",
    "This time we input directly the data of our model instead of use a CSV file."
   ],
   "metadata": {
    "collapsed": false
   }
  },
  {
   "cell_type": "code",
   "execution_count": 6,
   "outputs": [
    {
     "name": "stdout",
     "output_type": "stream",
     "text": [
      "AABBCCDD,0.0000542974682915145\n",
      "AABBCCDd,0.0000542974682915145\n",
      "AABBCCdd,0.0000542974682915145\n",
      "AABBCcDD,0.0000542974682915145\n",
      "AABBCcDd,0.0000542974682915145\n",
      "AABBCcdd,0.0000542974682915145\n",
      "AABBccDD,0.0000542974682915145\n",
      "AABBccDd,0.0000542974682915145\n",
      "AABBccdd,0.0000542974682915145\n",
      "AABbCCDD,0.0000542974682915145\n",
      "AABbCCDd,0.0000542974682915145\n",
      "AABbCCdd,0.0000542974682915145\n",
      "AABbCcDD,0.0000542974682915145\n",
      "AABbCcDd,0.0000542974682915145\n",
      "AABbCcdd,0.0000542974682915145\n",
      "AABbccDD,0.0000542974682915145\n",
      "AABbccDd,0.0000542974682915145\n",
      "AABbccdd,0.0000542974682915145\n",
      "AAbbCCDD,0.0000542974682915145\n",
      "AAbbCCDd,0.0000542974682915145\n",
      "AAbbCCdd,0.0000542974682915145\n",
      "AAbbCcDD,0.0000542974682915145\n",
      "AAbbCcDd,0.0000542974682915145\n",
      "AAbbCcdd,0.0000542974682915145\n",
      "AAbbccDD,0.0000542974682915145\n",
      "AAbbccDd,0.0000542974682915145\n",
      "AAbbccdd,0.0000542974682915145\n",
      "AaBBCCDD,0.0000542974682915145\n",
      "AaBBCCDd,0.0000542974682915145\n",
      "AaBBCCdd,0.0000542974682915145\n",
      "AaBBCcDD,0.0000542974682915145\n",
      "AaBBCcDd,0.0000542974682915145\n",
      "AaBBCcdd,0.0000542974682915145\n",
      "AaBBccDD,0.0000542974682915145\n",
      "AaBBccDd,0.0000542974682915145\n",
      "AaBBccdd,0.0000542974682915145\n",
      "AaBbCCDD,0.0000542974682915145\n",
      "AaBbCCDd,0.0000542974682915145\n",
      "AaBbCCdd,0.0000542974682915145\n",
      "AaBbCcDD,0.0000542974682915145\n",
      "AaBbCcDd,1.00000000000000\n",
      "AaBbCcdd,1.00000000000000\n",
      "AaBbccDD,0.0000542974682915145\n",
      "AaBbccDd,1.00000000000000\n",
      "AaBbccdd,1.00000000000000\n",
      "AabbCCDD,0.0000542974682915145\n",
      "AabbCCDd,0.0000542974682915145\n",
      "AabbCCdd,0.0000542974682915145\n",
      "AabbCcDD,0.0000542974682915145\n",
      "AabbCcDd,1.00000000000000\n",
      "AabbCcdd,1.00000000000000\n",
      "AabbccDD,0.0000542974682915145\n",
      "AabbccDd,1.00000000000000\n",
      "Aabbccdd,1.00000000000000\n",
      "aaBBCCDD,0.0000542974682915145\n",
      "aaBBCCDd,0.0000542974682915145\n",
      "aaBBCCdd,0.0000542974682915145\n",
      "aaBBCcDD,0.0000542974682915145\n",
      "aaBBCcDd,0.0000542974682915145\n",
      "aaBBCcdd,0.0000542974682915145\n",
      "aaBBccDD,0.0000542974682915145\n",
      "aaBBccDd,0.0000542974682915145\n",
      "aaBBccdd,0.0000542974682915145\n",
      "aaBbCCDD,0.0000542974682915145\n",
      "aaBbCCDd,0.0000542974682915145\n",
      "aaBbCCdd,0.0000542974682915145\n",
      "aaBbCcDD,0.0000542974682915145\n",
      "aaBbCcDd,1.00000000000000\n",
      "aaBbCcdd,1.00000000000000\n",
      "aaBbccDD,0.0000542974682915145\n",
      "aaBbccDd,1.00000000000000\n",
      "aaBbccdd,1.00000000000000\n",
      "aabbCCDD,0.0000542974682915145\n",
      "aabbCCDd,0.0000542974682915145\n",
      "aabbCCdd,0.0000542974682915145\n",
      "aabbCcDD,0.0000542974682915145\n",
      "aabbCcDd,1.00000000000000\n",
      "aabbCcdd,1.00000000000000\n",
      "aabbccDD,0.0000542974682915145\n",
      "aabbccDd,1.00000000000000\n",
      "aabbccdd,1.00000000000000\n",
      "\n"
     ]
    }
   ],
   "source": [
    "import pytoxo\n",
    "eg_model2 = pytoxo.Model(\n",
    "    genotypes_dict={\n",
    "        \"AABBCCDD\": \"x\",\n",
    "        \"AABBCCDd\": \"x\",\n",
    "        \"AABBCCdd\": \"x\",\n",
    "        \"AABBCcDD\": \"x\",\n",
    "        \"AABBCcDd\": \"x\",\n",
    "        \"AABBCcdd\": \"x\",\n",
    "        \"AABBccDD\": \"x\",\n",
    "        \"AABBccDd\": \"x\",\n",
    "        \"AABBccdd\": \"x\",\n",
    "        \"AABbCCDD\": \"x\",\n",
    "        \"AABbCCDd\": \"x\",\n",
    "        \"AABbCCdd\": \"x\",\n",
    "        \"AABbCcDD\": \"x\",\n",
    "        \"AABbCcDd\": \"x\",\n",
    "        \"AABbCcdd\": \"x\",\n",
    "        \"AABbccDD\": \"x\",\n",
    "        \"AABbccDd\": \"x\",\n",
    "        \"AABbccdd\": \"x\",\n",
    "        \"AAbbCCDD\": \"x\",\n",
    "        \"AAbbCCDd\": \"x\",\n",
    "        \"AAbbCCdd\": \"x\",\n",
    "        \"AAbbCcDD\": \"x\",\n",
    "        \"AAbbCcDd\": \"x\",\n",
    "        \"AAbbCcdd\": \"x\",\n",
    "        \"AAbbccDD\": \"x\",\n",
    "        \"AAbbccDd\": \"x\",\n",
    "        \"AAbbccdd\": \"x\",\n",
    "        \"AaBBCCDD\": \"x\",\n",
    "        \"AaBBCCDd\": \"x\",\n",
    "        \"AaBBCCdd\": \"x\",\n",
    "        \"AaBBCcDD\": \"x\",\n",
    "        \"AaBBCcDd\": \"x\",\n",
    "        \"AaBBCcdd\": \"x\",\n",
    "        \"AaBBccDD\": \"x\",\n",
    "        \"AaBBccDd\": \"x\",\n",
    "        \"AaBBccdd\": \"x\",\n",
    "        \"AaBbCCDD\": \"x\",\n",
    "        \"AaBbCCDd\": \"x\",\n",
    "        \"AaBbCCdd\": \"x\",\n",
    "        \"AaBbCcDD\": \"x\",\n",
    "        \"AaBbCcDd\": \"x*(1+y)\",\n",
    "        \"AaBbCcdd\": \"x*(1+y)\",\n",
    "        \"AaBbccDD\": \"x\",\n",
    "        \"AaBbccDd\": \"x*(1+y)\",\n",
    "        \"AaBbccdd\": \"x*(1+y)\",\n",
    "        \"AabbCCDD\": \"x\",\n",
    "        \"AabbCCDd\": \"x\",\n",
    "        \"AabbCCdd\": \"x\",\n",
    "        \"AabbCcDD\": \"x\",\n",
    "        \"AabbCcDd\": \"x*(1+y)\",\n",
    "        \"AabbCcdd\": \"x*(1+y)\",\n",
    "        \"AabbccDD\": \"x\",\n",
    "        \"AabbccDd\": \"x*(1+y)\",\n",
    "        \"Aabbccdd\": \"x*(1+y)\",\n",
    "        \"aaBBCCDD\": \"x\",\n",
    "        \"aaBBCCDd\": \"x\",\n",
    "        \"aaBBCCdd\": \"x\",\n",
    "        \"aaBBCcDD\": \"x\",\n",
    "        \"aaBBCcDd\": \"x\",\n",
    "        \"aaBBCcdd\": \"x\",\n",
    "        \"aaBBccDD\": \"x\",\n",
    "        \"aaBBccDd\": \"x\",\n",
    "        \"aaBBccdd\": \"x\",\n",
    "        \"aaBbCCDD\": \"x\",\n",
    "        \"aaBbCCDd\": \"x\",\n",
    "        \"aaBbCCdd\": \"x\",\n",
    "        \"aaBbCcDD\": \"x\",\n",
    "        \"aaBbCcDd\": \"x*(1+y)\",\n",
    "        \"aaBbCcdd\": \"x*(1+y)\",\n",
    "        \"aaBbccDD\": \"x\",\n",
    "        \"aaBbccDd\": \"x*(1+y)\",\n",
    "        \"aaBbccdd\": \"x*(1+y)\",\n",
    "        \"aabbCCDD\": \"x\",\n",
    "        \"aabbCCDd\": \"x\",\n",
    "        \"aabbCCdd\": \"x\",\n",
    "        \"aabbCcDD\": \"x\",\n",
    "        \"aabbCcDd\": \"x*(1+y)\",\n",
    "        \"aabbCcdd\": \"x*(1+y)\",\n",
    "        \"aabbccDD\": \"x\",\n",
    "        \"aabbccDd\": \"x*(1+y)\",\n",
    "        \"aabbccdd\": \"x*(1+y)\",\n",
    "    },\n",
    "    model_name=\"eg_model2\",\n",
    ")\n",
    "eg_ptable2 = eg_model2.find_max_prevalence_table(mafs=[0.1] * eg_model2.order, h=0.96)\n",
    "eg_ptable2.print_table()"
   ],
   "metadata": {
    "collapsed": false,
    "pycharm": {
     "name": "#%%\n"
    }
   }
  }
 ],
 "metadata": {
  "kernelspec": {
   "display_name": "Python 3",
   "language": "python",
   "name": "python3"
  },
  "language_info": {
   "codemirror_mode": {
    "name": "ipython",
    "version": 3
   },
   "file_extension": ".py",
   "mimetype": "text/x-python",
   "name": "python",
   "nbconvert_exporter": "python",
   "pygments_lexer": "ipython3",
   "version": "3.9.0"
  }
 },
 "nbformat": 4,
 "nbformat_minor": 1
}