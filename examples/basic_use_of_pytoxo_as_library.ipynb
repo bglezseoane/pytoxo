{
 "cells": [
  {
   "cell_type": "markdown",
   "metadata": {},
   "source": [
    "# PyToxo use example as library\n",
    "\n",
    "In this Jupyter Notebook we illustrate the use of PyToxo, as library, with some of the models saved within this repository."
   ]
  },
  {
   "cell_type": "markdown",
   "source": [
    "## Step by step with a first example"
   ],
   "metadata": {
    "collapsed": false
   }
  },
  {
   "cell_type": "markdown",
   "metadata": {
    "pycharm": {
     "name": "#%% md\n"
    }
   },
   "source": [
    "The first is the first: let's import the PyToxo library."
   ]
  },
  {
   "cell_type": "code",
   "execution_count": 1,
   "metadata": {
    "pycharm": {
     "name": "#%%\n"
    }
   },
   "outputs": [],
   "source": [
    "import pytoxo"
   ]
  },
  {
   "cell_type": "markdown",
   "metadata": {
    "pycharm": {
     "name": "#%% md\n"
    }
   },
   "source": [
    "Now we can build a PyToxo object model using a model CSV file. We are going to use `models/additive_3.csv`."
   ]
  },
  {
   "cell_type": "code",
   "execution_count": 2,
   "metadata": {
    "pycharm": {
     "name": "#%%\n"
    }
   },
   "outputs": [],
   "source": [
    "eg_model_file = \"../models/additive_3.csv\"\n",
    "eg_model = pytoxo.Model(eg_model_file)"
   ]
  },
  {
   "cell_type": "markdown",
   "metadata": {},
   "source": [
    "We can examine some properties of our `model` object:"
   ]
  },
  {
   "cell_type": "code",
   "execution_count": 3,
   "metadata": {
    "pycharm": {
     "name": "#%%\n"
    }
   },
   "outputs": [
    {
     "name": "stdout",
     "output_type": "stream",
     "text": [
      "additive_3\n",
      "3\n",
      "[x, y]\n",
      "[x, x*(y + 1), x*(y + 1)**2, x*(y + 1), x*(y + 1)**2, x*(y + 1)**3, x*(y + 1)**2, x*(y + 1)**3, x*(y + 1)**4, x*(y + 1), x*(y + 1)**2, x*(y + 1)**3, x*(y + 1)**2, x*(y + 1)**3, x*(y + 1)**4, x*(y + 1)**3, x*(y + 1)**4, x*(y + 1)**5, x*(y + 1)**2, x*(y + 1)**3, x*(y + 1)**4, x*(y + 1)**3, x*(y + 1)**4, x*(y + 1)**5, x*(y + 1)**4, x*(y + 1)**5, x*(y + 1)**6]\n"
     ]
    }
   ],
   "source": [
    "print(eg_model.name)\n",
    "print(eg_model.order)\n",
    "print(eg_model.variables)\n",
    "print(eg_model.penetrances)"
   ]
  },
  {
   "cell_type": "markdown",
   "metadata": {},
   "source": [
    "`model` exposes only two public methods:\n",
    "\n",
    "1. `find_max_prevalence_table`: computes the table whose prevalence is maximum for the given MAFs and heritability, and returns it as a `PTable` object.\n",
    "2. `find_max_heritability_table`: computes the table whose heritability is maximum for the given MAFs and prevalence, and returns it within a `PTable` object\n",
    "\n",
    "Let's play with the first one, `find_max_prevalence_table`, to obtain a prevalence table. We are going to use a MAF of 0.4 and a heritability of 0.85."
   ]
  },
  {
   "cell_type": "code",
   "execution_count": 4,
   "metadata": {
    "pycharm": {
     "name": "#%%\n"
    }
   },
   "outputs": [],
   "source": [
    "eg_mafs = [0.4, 0.4, 0.4]  # Dimension should coincide with model order\n",
    "eg_heritability = 0.85\n",
    "eg_ptable = eg_model.find_max_prevalence_table(mafs=eg_mafs, h=eg_heritability)"
   ]
  },
  {
   "cell_type": "markdown",
   "source": [
    "And here we have our `eg_ptable` penetrance table. Let's take a look at it:"
   ],
   "metadata": {
    "collapsed": false
   }
  },
  {
   "cell_type": "code",
   "execution_count": 5,
   "outputs": [
    {
     "name": "stdout",
     "output_type": "stream",
     "text": [
      "AABBCC,4.08906702591303E-11\n",
      "AABBCc,2.20302888340413E-9\n",
      "AABBcc,1.18690552890343E-7\n",
      "AABbCC,2.20302888340413E-9\n",
      "AABbCc,1.18690552890343E-7\n",
      "AABbcc,0.00000639458132008111\n",
      "AAbbCC,1.18690552890343E-7\n",
      "AAbbCc,0.00000639458132008111\n",
      "AAbbcc,0.000344514953072204\n",
      "AaBBCC,2.20302888340413E-9\n",
      "AaBBCc,1.18690552890343E-7\n",
      "AaBBcc,0.00000639458132008111\n",
      "AaBbCC,1.18690552890343E-7\n",
      "AaBbCc,0.00000639458132008111\n",
      "AaBbcc,0.000344514953072204\n",
      "AabbCC,0.00000639458132008111\n",
      "AabbCc,0.000344514953072204\n",
      "Aabbcc,0.0185611140040732\n",
      "aaBBCC,1.18690552890343E-7\n",
      "aaBBCc,0.00000639458132008111\n",
      "aaBBcc,0.000344514953072204\n",
      "aaBbCC,0.00000639458132008111\n",
      "aaBbCc,0.000344514953072204\n",
      "aaBbcc,0.0185611140040732\n",
      "aabbCC,0.000344514953072204\n",
      "aabbCc,0.0185611140040732\n",
      "aabbcc,1.00000000000000\n",
      "\n"
     ]
    }
   ],
   "source": [
    "eg_ptable.print_table()"
   ],
   "metadata": {
    "collapsed": false,
    "pycharm": {
     "name": "#%%\n"
    }
   }
  },
  {
   "cell_type": "markdown",
   "source": [
    "We could also save the table easily with the provided method `write_to_file`. And remember that unless you configure it to avoid it, PyToxo checks solutions, so if it can find a table, that table is correct within the program's accuracy margins."
   ],
   "metadata": {
    "collapsed": false
   }
  },
  {
   "cell_type": "markdown",
   "source": [
    "## All together with a second example"
   ],
   "metadata": {
    "collapsed": false
   }
  },
  {
   "cell_type": "code",
   "execution_count": 6,
   "outputs": [
    {
     "name": "stdout",
     "output_type": "stream",
     "text": [
      "AABBCCDDEE,0.0000103169727256423\n",
      "AABBCCDDEe,0.0000103169727256423\n",
      "AABBCCDDee,0.0000103169727256423\n",
      "AABBCCDdEE,0.0000103169727256423\n",
      "AABBCCDdEe,0.0000103169727256423\n",
      "AABBCCDdee,0.0000103169727256423\n",
      "AABBCCddEE,0.0000103169727256423\n",
      "AABBCCddEe,0.0000103169727256423\n",
      "AABBCCddee,0.0000103169727256423\n",
      "AABBCcDDEE,0.0000103169727256423\n",
      "AABBCcDDEe,0.0000103169727256423\n",
      "AABBCcDDee,0.0000103169727256423\n",
      "AABBCcDdEE,0.0000103169727256423\n",
      "AABBCcDdEe,0.0000103169727256423\n",
      "AABBCcDdee,0.0000103169727256423\n",
      "AABBCcddEE,0.0000103169727256423\n",
      "AABBCcddEe,0.0000103169727256423\n",
      "AABBCcddee,0.0000103169727256423\n",
      "AABBccDDEE,0.0000103169727256423\n",
      "AABBccDDEe,0.0000103169727256423\n",
      "AABBccDDee,0.0000103169727256423\n",
      "AABBccDdEE,0.0000103169727256423\n",
      "AABBccDdEe,0.0000103169727256423\n",
      "AABBccDdee,0.0000103169727256423\n",
      "AABBccddEE,0.0000103169727256423\n",
      "AABBccddEe,0.0000103169727256423\n",
      "AABBccddee,0.0000103169727256423\n",
      "AABbCCDDEE,0.0000103169727256423\n",
      "AABbCCDDEe,0.0000103169727256423\n",
      "AABbCCDDee,0.0000103169727256423\n",
      "AABbCCDdEE,0.0000103169727256423\n",
      "AABbCCDdEe,0.0000103169727256423\n",
      "AABbCCDdee,0.0000103169727256423\n",
      "AABbCCddEE,0.0000103169727256423\n",
      "AABbCCddEe,0.0000103169727256423\n",
      "AABbCCddee,0.0000103169727256423\n",
      "AABbCcDDEE,0.0000103169727256423\n",
      "AABbCcDDEe,0.0000103169727256423\n",
      "AABbCcDDee,0.0000103169727256423\n",
      "AABbCcDdEE,0.0000103169727256423\n",
      "AABbCcDdEe,0.0000103169727256423\n",
      "AABbCcDdee,0.0000103169727256423\n",
      "AABbCcddEE,0.0000103169727256423\n",
      "AABbCcddEe,0.0000103169727256423\n",
      "AABbCcddee,0.0000103169727256423\n",
      "AABbccDDEE,0.0000103169727256423\n",
      "AABbccDDEe,0.0000103169727256423\n",
      "AABbccDDee,0.0000103169727256423\n",
      "AABbccDdEE,0.0000103169727256423\n",
      "AABbccDdEe,0.0000103169727256423\n",
      "AABbccDdee,0.0000103169727256423\n",
      "AABbccddEE,0.0000103169727256423\n",
      "AABbccddEe,0.0000103169727256423\n",
      "AABbccddee,0.0000103169727256423\n",
      "AAbbCCDDEE,0.0000103169727256423\n",
      "AAbbCCDDEe,0.0000103169727256423\n",
      "AAbbCCDDee,0.0000103169727256423\n",
      "AAbbCCDdEE,0.0000103169727256423\n",
      "AAbbCCDdEe,0.0000103169727256423\n",
      "AAbbCCDdee,0.0000103169727256423\n",
      "AAbbCCddEE,0.0000103169727256423\n",
      "AAbbCCddEe,0.0000103169727256423\n",
      "AAbbCCddee,0.0000103169727256423\n",
      "AAbbCcDDEE,0.0000103169727256423\n",
      "AAbbCcDDEe,0.0000103169727256423\n",
      "AAbbCcDDee,0.0000103169727256423\n",
      "AAbbCcDdEE,0.0000103169727256423\n",
      "AAbbCcDdEe,0.0000103169727256423\n",
      "AAbbCcDdee,0.0000103169727256423\n",
      "AAbbCcddEE,0.0000103169727256423\n",
      "AAbbCcddEe,0.0000103169727256423\n",
      "AAbbCcddee,0.0000103169727256423\n",
      "AAbbccDDEE,0.0000103169727256423\n",
      "AAbbccDDEe,0.0000103169727256423\n",
      "AAbbccDDee,0.0000103169727256423\n",
      "AAbbccDdEE,0.0000103169727256423\n",
      "AAbbccDdEe,0.0000103169727256423\n",
      "AAbbccDdee,0.0000103169727256423\n",
      "AAbbccddEE,0.0000103169727256423\n",
      "AAbbccddEe,0.0000103169727256423\n",
      "AAbbccddee,0.0000103169727256423\n",
      "AaBBCCDDEE,0.0000103169727256423\n",
      "AaBBCCDDEe,0.0000103169727256423\n",
      "AaBBCCDDee,0.0000103169727256423\n",
      "AaBBCCDdEE,0.0000103169727256423\n",
      "AaBBCCDdEe,0.0000103169727256423\n",
      "AaBBCCDdee,0.0000103169727256423\n",
      "AaBBCCddEE,0.0000103169727256423\n",
      "AaBBCCddEe,0.0000103169727256423\n",
      "AaBBCCddee,0.0000103169727256423\n",
      "AaBBCcDDEE,0.0000103169727256423\n",
      "AaBBCcDDEe,0.0000103169727256423\n",
      "AaBBCcDDee,0.0000103169727256423\n",
      "AaBBCcDdEE,0.0000103169727256423\n",
      "AaBBCcDdEe,0.0000103169727256423\n",
      "AaBBCcDdee,0.0000103169727256423\n",
      "AaBBCcddEE,0.0000103169727256423\n",
      "AaBBCcddEe,0.0000103169727256423\n",
      "AaBBCcddee,0.0000103169727256423\n",
      "AaBBccDDEE,0.0000103169727256423\n",
      "AaBBccDDEe,0.0000103169727256423\n",
      "AaBBccDDee,0.0000103169727256423\n",
      "AaBBccDdEE,0.0000103169727256423\n",
      "AaBBccDdEe,0.0000103169727256423\n",
      "AaBBccDdee,0.0000103169727256423\n",
      "AaBBccddEE,0.0000103169727256423\n",
      "AaBBccddEe,0.0000103169727256423\n",
      "AaBBccddee,0.0000103169727256423\n",
      "AaBbCCDDEE,0.0000103169727256423\n",
      "AaBbCCDDEe,0.0000103169727256423\n",
      "AaBbCCDDee,0.0000103169727256423\n",
      "AaBbCCDdEE,0.0000103169727256423\n",
      "AaBbCCDdEe,0.0000103169727256423\n",
      "AaBbCCDdee,0.0000103169727256423\n",
      "AaBbCCddEE,0.0000103169727256423\n",
      "AaBbCCddEe,0.0000103169727256423\n",
      "AaBbCCddee,0.0000103169727256423\n",
      "AaBbCcDDEE,0.0000103169727256423\n",
      "AaBbCcDDEe,0.0000103169727256423\n",
      "AaBbCcDDee,0.0000103169727256423\n",
      "AaBbCcDdEE,0.0000103169727256423\n",
      "AaBbCcDdEe,1.00000000000000\n",
      "AaBbCcDdee,1.00000000000000\n",
      "AaBbCcddEE,0.0000103169727256423\n",
      "AaBbCcddEe,1.00000000000000\n",
      "AaBbCcddee,1.00000000000000\n",
      "AaBbccDDEE,0.0000103169727256423\n",
      "AaBbccDDEe,0.0000103169727256423\n",
      "AaBbccDDee,0.0000103169727256423\n",
      "AaBbccDdEE,0.0000103169727256423\n",
      "AaBbccDdEe,1.00000000000000\n",
      "AaBbccDdee,1.00000000000000\n",
      "AaBbccddEE,0.0000103169727256423\n",
      "AaBbccddEe,1.00000000000000\n",
      "AaBbccddee,1.00000000000000\n",
      "AabbCCDDEE,0.0000103169727256423\n",
      "AabbCCDDEe,0.0000103169727256423\n",
      "AabbCCDDee,0.0000103169727256423\n",
      "AabbCCDdEE,0.0000103169727256423\n",
      "AabbCCDdEe,0.0000103169727256423\n",
      "AabbCCDdee,0.0000103169727256423\n",
      "AabbCCddEE,0.0000103169727256423\n",
      "AabbCCddEe,0.0000103169727256423\n",
      "AabbCCddee,0.0000103169727256423\n",
      "AabbCcDDEE,0.0000103169727256423\n",
      "AabbCcDDEe,0.0000103169727256423\n",
      "AabbCcDDee,0.0000103169727256423\n",
      "AabbCcDdEE,0.0000103169727256423\n",
      "AabbCcDdEe,1.00000000000000\n",
      "AabbCcDdee,1.00000000000000\n",
      "AabbCcddEE,0.0000103169727256423\n",
      "AabbCcddEe,1.00000000000000\n",
      "AabbCcddee,1.00000000000000\n",
      "AabbccDDEE,0.0000103169727256423\n",
      "AabbccDDEe,0.0000103169727256423\n",
      "AabbccDDee,0.0000103169727256423\n",
      "AabbccDdEE,0.0000103169727256423\n",
      "AabbccDdEe,1.00000000000000\n",
      "AabbccDdee,1.00000000000000\n",
      "AabbccddEE,0.0000103169727256423\n",
      "AabbccddEe,1.00000000000000\n",
      "Aabbccddee,1.00000000000000\n",
      "aaBBCCDDEE,0.0000103169727256423\n",
      "aaBBCCDDEe,0.0000103169727256423\n",
      "aaBBCCDDee,0.0000103169727256423\n",
      "aaBBCCDdEE,0.0000103169727256423\n",
      "aaBBCCDdEe,0.0000103169727256423\n",
      "aaBBCCDdee,0.0000103169727256423\n",
      "aaBBCCddEE,0.0000103169727256423\n",
      "aaBBCCddEe,0.0000103169727256423\n",
      "aaBBCCddee,0.0000103169727256423\n",
      "aaBBCcDDEE,0.0000103169727256423\n",
      "aaBBCcDDEe,0.0000103169727256423\n",
      "aaBBCcDDee,0.0000103169727256423\n",
      "aaBBCcDdEE,0.0000103169727256423\n",
      "aaBBCcDdEe,0.0000103169727256423\n",
      "aaBBCcDdee,0.0000103169727256423\n",
      "aaBBCcddEE,0.0000103169727256423\n",
      "aaBBCcddEe,0.0000103169727256423\n",
      "aaBBCcddee,0.0000103169727256423\n",
      "aaBBccDDEE,0.0000103169727256423\n",
      "aaBBccDDEe,0.0000103169727256423\n",
      "aaBBccDDee,0.0000103169727256423\n",
      "aaBBccDdEE,0.0000103169727256423\n",
      "aaBBccDdEe,0.0000103169727256423\n",
      "aaBBccDdee,0.0000103169727256423\n",
      "aaBBccddEE,0.0000103169727256423\n",
      "aaBBccddEe,0.0000103169727256423\n",
      "aaBBccddee,0.0000103169727256423\n",
      "aaBbCCDDEE,0.0000103169727256423\n",
      "aaBbCCDDEe,0.0000103169727256423\n",
      "aaBbCCDDee,0.0000103169727256423\n",
      "aaBbCCDdEE,0.0000103169727256423\n",
      "aaBbCCDdEe,0.0000103169727256423\n",
      "aaBbCCDdee,0.0000103169727256423\n",
      "aaBbCCddEE,0.0000103169727256423\n",
      "aaBbCCddEe,0.0000103169727256423\n",
      "aaBbCCddee,0.0000103169727256423\n",
      "aaBbCcDDEE,0.0000103169727256423\n",
      "aaBbCcDDEe,0.0000103169727256423\n",
      "aaBbCcDDee,0.0000103169727256423\n",
      "aaBbCcDdEE,0.0000103169727256423\n",
      "aaBbCcDdEe,1.00000000000000\n",
      "aaBbCcDdee,1.00000000000000\n",
      "aaBbCcddEE,0.0000103169727256423\n",
      "aaBbCcddEe,1.00000000000000\n",
      "aaBbCcddee,1.00000000000000\n",
      "aaBbccDDEE,0.0000103169727256423\n",
      "aaBbccDDEe,0.0000103169727256423\n",
      "aaBbccDDee,0.0000103169727256423\n",
      "aaBbccDdEE,0.0000103169727256423\n",
      "aaBbccDdEe,1.00000000000000\n",
      "aaBbccDdee,1.00000000000000\n",
      "aaBbccddEE,0.0000103169727256423\n",
      "aaBbccddEe,1.00000000000000\n",
      "aaBbccddee,1.00000000000000\n",
      "aabbCCDDEE,0.0000103169727256423\n",
      "aabbCCDDEe,0.0000103169727256423\n",
      "aabbCCDDee,0.0000103169727256423\n",
      "aabbCCDdEE,0.0000103169727256423\n",
      "aabbCCDdEe,0.0000103169727256423\n",
      "aabbCCDdee,0.0000103169727256423\n",
      "aabbCCddEE,0.0000103169727256423\n",
      "aabbCCddEe,0.0000103169727256423\n",
      "aabbCCddee,0.0000103169727256423\n",
      "aabbCcDDEE,0.0000103169727256423\n",
      "aabbCcDDEe,0.0000103169727256423\n",
      "aabbCcDDee,0.0000103169727256423\n",
      "aabbCcDdEE,0.0000103169727256423\n",
      "aabbCcDdEe,1.00000000000000\n",
      "aabbCcDdee,1.00000000000000\n",
      "aabbCcddEE,0.0000103169727256423\n",
      "aabbCcddEe,1.00000000000000\n",
      "aabbCcddee,1.00000000000000\n",
      "aabbccDDEE,0.0000103169727256423\n",
      "aabbccDDEe,0.0000103169727256423\n",
      "aabbccDDee,0.0000103169727256423\n",
      "aabbccDdEE,0.0000103169727256423\n",
      "aabbccDdEe,1.00000000000000\n",
      "aabbccDdee,1.00000000000000\n",
      "aabbccddEE,0.0000103169727256423\n",
      "aabbccddEe,1.00000000000000\n",
      "aabbccddee,1.00000000000000\n",
      "\n"
     ]
    }
   ],
   "source": [
    "import pytoxo\n",
    "eg_model_file2 = \"../models/threshold_5.csv\"\n",
    "eg_model2 = pytoxo.Model(eg_model_file2)\n",
    "eg_ptable2 = eg_model2.find_max_prevalence_table(mafs=[0.1] * eg_model2.order, h=0.96)\n",
    "eg_ptable2.print_table()"
   ],
   "metadata": {
    "collapsed": false,
    "pycharm": {
     "name": "#%%\n"
    }
   }
  }
 ],
 "metadata": {
  "kernelspec": {
   "display_name": "Python 3",
   "language": "python",
   "name": "python3"
  },
  "language_info": {
   "codemirror_mode": {
    "name": "ipython",
    "version": 3
   },
   "file_extension": ".py",
   "mimetype": "text/x-python",
   "name": "python",
   "nbconvert_exporter": "python",
   "pygments_lexer": "ipython3",
   "version": "3.9.0"
  }
 },
 "nbformat": 4,
 "nbformat_minor": 1
}