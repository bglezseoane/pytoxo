{
 "cells": [
  {
   "cell_type": "markdown",
   "metadata": {},
   "source": [
    "# PyToxo use example as library\n",
    "\n",
    "In this Jupyter Notebook we illustrate the use of PyToxo, as library, with some of the models saved within this repository."
   ]
  },
  {
   "cell_type": "markdown",
   "metadata": {},
   "source": [
    "## Step by step with a first example"
   ]
  },
  {
   "cell_type": "markdown",
   "metadata": {
    "pycharm": {
     "name": "#%% md\n"
    }
   },
   "source": [
    "The first is the first: let's import the PyToxo library."
   ]
  },
  {
   "cell_type": "code",
   "execution_count": 1,
   "metadata": {
    "pycharm": {
     "name": "#%%\n"
    }
   },
   "outputs": [],
   "source": [
    "import pytoxo"
   ]
  },
  {
   "cell_type": "markdown",
   "metadata": {
    "pycharm": {
     "name": "#%% md\n"
    }
   },
   "source": [
    "Now we can build a PyToxo object model using a model CSV file. We are going to use `models/additive_3.csv`. It is also possible to directly input a Python dictionary with the parameters of your model —we will do it in the second example—."
   ]
  },
  {
   "cell_type": "code",
   "execution_count": 2,
   "metadata": {
    "pycharm": {
     "name": "#%%\n"
    }
   },
   "outputs": [],
   "source": [
    "model_file = \"../models/additive_3.csv\"\n",
    "model = pytoxo.Model(filename=model_file)"
   ]
  },
  {
   "cell_type": "markdown",
   "metadata": {},
   "source": [
    "We can examine some properties of our `model` object:"
   ]
  },
  {
   "cell_type": "code",
   "execution_count": 3,
   "metadata": {
    "pycharm": {
     "name": "#%%\n"
    }
   },
   "outputs": [
    {
     "name": "stdout",
     "output_type": "stream",
     "text": [
      "additive_3\n",
      "3\n",
      "[x, y]\n",
      "[x,\n",
      " x*(y + 1),\n",
      " x*(y + 1)**2,\n",
      " x*(y + 1),\n",
      " x*(y + 1)**2,\n",
      " x*(y + 1)**3,\n",
      " x*(y + 1)**2,\n",
      " x*(y + 1)**3,\n",
      " x*(y + 1)**4,\n",
      " x*(y + 1),\n",
      " x*(y + 1)**2,\n",
      " x*(y + 1)**3,\n",
      " x*(y + 1)**2,\n",
      " x*(y + 1)**3,\n",
      " x*(y + 1)**4,\n",
      " x*(y + 1)**3,\n",
      " x*(y + 1)**4,\n",
      " x*(y + 1)**5,\n",
      " x*(y + 1)**2,\n",
      " x*(y + 1)**3,\n",
      " x*(y + 1)**4,\n",
      " x*(y + 1)**3,\n",
      " x*(y + 1)**4,\n",
      " x*(y + 1)**5,\n",
      " x*(y + 1)**4,\n",
      " x*(y + 1)**5,\n",
      " x*(y + 1)**6]\n"
     ]
    }
   ],
   "source": [
    "from pprint import pprint  # We will use this to print some stuff legibily\n",
    "\n",
    "print(model.name)\n",
    "print(model.order)\n",
    "pprint(model.variables)\n",
    "pprint(model.penetrances)"
   ]
  },
  {
   "cell_type": "markdown",
   "metadata": {},
   "source": [
    "`model` exposes only two public methods:\n",
    "\n",
    "1. `find_max_prevalence_table`: computes the penetrance table whose prevalence is maximum for the given MAFs and heritability, and returns it as a `PTable` object.\n",
    "2. `find_max_heritability_table`: computes the penetrance table whose heritability is maximum for the given MAFs and prevalence, and returns it within a `PTable` object\n",
    "\n",
    "Let's play with the first one, `find_max_prevalence_table`, to obtain a penetrance table. We are going to use a MAF of 0.4 and a heritability of 0.85."
   ]
  },
  {
   "cell_type": "code",
   "execution_count": 4,
   "metadata": {
    "pycharm": {
     "name": "#%%\n"
    }
   },
   "outputs": [],
   "source": [
    "mafs = [0.4, 0.4, 0.4]  # Dimension should coincide with model order\n",
    "heritability = 0.85\n",
    "ptable = model.find_max_prevalence_table(mafs=mafs, h=heritability)"
   ]
  },
  {
   "cell_type": "markdown",
   "metadata": {},
   "source": [
    "And here we have our `ptable` penetrance table. Let's take a look at it:"
   ]
  },
  {
   "cell_type": "code",
   "execution_count": 5,
   "metadata": {
    "pycharm": {
     "name": "#%%\n"
    }
   },
   "outputs": [
    {
     "name": "stdout",
     "output_type": "stream",
     "text": [
      "AABBCC,4.08906702591303E-11\n",
      "AABBCc,2.20302888340413E-9\n",
      "AABBcc,1.18690552890343E-7\n",
      "AABbCC,2.20302888340413E-9\n",
      "AABbCc,1.18690552890343E-7\n",
      "AABbcc,0.00000639458132008111\n",
      "AAbbCC,1.18690552890343E-7\n",
      "AAbbCc,0.00000639458132008111\n",
      "AAbbcc,0.000344514953072204\n",
      "AaBBCC,2.20302888340413E-9\n",
      "AaBBCc,1.18690552890343E-7\n",
      "AaBBcc,0.00000639458132008111\n",
      "AaBbCC,1.18690552890343E-7\n",
      "AaBbCc,0.00000639458132008111\n",
      "AaBbcc,0.000344514953072204\n",
      "AabbCC,0.00000639458132008111\n",
      "AabbCc,0.000344514953072204\n",
      "Aabbcc,0.0185611140040732\n",
      "aaBBCC,1.18690552890343E-7\n",
      "aaBBCc,0.00000639458132008111\n",
      "aaBBcc,0.000344514953072204\n",
      "aaBbCC,0.00000639458132008111\n",
      "aaBbCc,0.000344514953072204\n",
      "aaBbcc,0.0185611140040732\n",
      "aabbCC,0.000344514953072204\n",
      "aabbCc,0.0185611140040732\n",
      "aabbcc,1.00000000000000\n",
      "\n"
     ]
    }
   ],
   "source": [
    "ptable.print_table()"
   ]
  },
  {
   "cell_type": "markdown",
   "metadata": {},
   "source": [
    "We could also save the table easily with the provided method `write_to_file`. As default, PyToxo prints tables using the above's CSV format and saves them using a GAMETES format, but we can change this behavior at will. The next example prints the table using GAMETES format, and the `write_to_file` accept exactly the same parameters to configure it, but with the difference that the default is `csv`."
   ]
  },
  {
   "cell_type": "code",
   "execution_count": 6,
   "outputs": [
    {
     "name": "stdout",
     "output_type": "stream",
     "text": [
      "Attribute names:\tP0\tP1\tP2\n",
      "Minor allele frequencies:\t0.400\t0.400\t0.400\n",
      "x: 4.08906702591303e-11\n",
      "y: 52.8760766072850\n",
      "Prevalence: 0.00482966795815766\n",
      "Heritability: 0.850000000000000\n",
      "\n",
      "Table:\n",
      "\n",
      "4.08906702591303E-11, 2.20302888340413E-9, 1.18690552890343E-7\n",
      "2.20302888340413E-9, 1.18690552890343E-7, 0.00000639458132008111\n",
      "1.18690552890343E-7, 0.00000639458132008111, 0.000344514953072204\n",
      "\n",
      "2.20302888340413E-9, 1.18690552890343E-7, 0.00000639458132008111\n",
      "1.18690552890343E-7, 0.00000639458132008111, 0.000344514953072204\n",
      "0.00000639458132008111, 0.000344514953072204, 0.0185611140040732\n",
      "\n",
      "1.18690552890343E-7, 0.00000639458132008111, 0.000344514953072204\n",
      "0.00000639458132008111, 0.000344514953072204, 0.0185611140040732\n",
      "0.000344514953072204, 0.0185611140040732, 1.00000000000000\n",
      " \n"
     ]
    }
   ],
   "source": [
    "ptable.print_table(format=\"gametes\")"
   ],
   "metadata": {
    "collapsed": false,
    "pycharm": {
     "name": "#%%\n"
    }
   }
  },
  {
   "cell_type": "markdown",
   "source": [
    "And remember that unless you configure it to avoid it, PyToxo checks solutions, so if it can find a table, that table is correct within the program's accuracy margins."
   ],
   "metadata": {
    "collapsed": false
   }
  },
  {
   "cell_type": "markdown",
   "metadata": {},
   "source": [
    "## Using a Python dict to input the model\n",
    "\n",
    "This time we are going to directly write our model data instead of using a CSV file. PyToxo allows us to select between a unified Python dictionary where we associate genotype definitions and probabilities, or two separate lists (or Numpy arrays): one with the genotype definitions and the other with the associated probabilities. You can even use a list and a Numpy array in combination.\n",
    "\n",
    "In this example we are going to use the first possibility: a Python dictionary, which is a very visual way of presenting the case. In the following example we will address the second possibility.\n",
    "\n",
    "Here we have also chosen to manually define the name of the model. This only serves to be able to identify the case during the execution of the program. If manually entering this parameter is omitted, PyToxo can only deduce it when initializing from a CSV file, in the rest of cases it is left as if it had no name, although it can be modified at any time."
   ]
  },
  {
   "cell_type": "code",
   "execution_count": 7,
   "metadata": {
    "pycharm": {
     "name": "#%%\n"
    }
   },
   "outputs": [
    {
     "name": "stdout",
     "output_type": "stream",
     "text": [
      "AABBCCDD,0.0000542974682915145\n",
      "AABBCCDd,0.0000542974682915145\n",
      "AABBCCdd,0.0000542974682915145\n",
      "AABBCcDD,0.0000542974682915145\n",
      "AABBCcDd,0.0000542974682915145\n",
      "AABBCcdd,0.0000542974682915145\n",
      "AABBccDD,0.0000542974682915145\n",
      "AABBccDd,0.0000542974682915145\n",
      "AABBccdd,0.0000542974682915145\n",
      "AABbCCDD,0.0000542974682915145\n",
      "AABbCCDd,0.0000542974682915145\n",
      "AABbCCdd,0.0000542974682915145\n",
      "AABbCcDD,0.0000542974682915145\n",
      "AABbCcDd,0.0000542974682915145\n",
      "AABbCcdd,0.0000542974682915145\n",
      "AABbccDD,0.0000542974682915145\n",
      "AABbccDd,0.0000542974682915145\n",
      "AABbccdd,0.0000542974682915145\n",
      "AAbbCCDD,0.0000542974682915145\n",
      "AAbbCCDd,0.0000542974682915145\n",
      "AAbbCCdd,0.0000542974682915145\n",
      "AAbbCcDD,0.0000542974682915145\n",
      "AAbbCcDd,0.0000542974682915145\n",
      "AAbbCcdd,0.0000542974682915145\n",
      "AAbbccDD,0.0000542974682915145\n",
      "AAbbccDd,0.0000542974682915145\n",
      "AAbbccdd,0.0000542974682915145\n",
      "AaBBCCDD,0.0000542974682915145\n",
      "AaBBCCDd,0.0000542974682915145\n",
      "AaBBCCdd,0.0000542974682915145\n",
      "AaBBCcDD,0.0000542974682915145\n",
      "AaBBCcDd,0.0000542974682915145\n",
      "AaBBCcdd,0.0000542974682915145\n",
      "AaBBccDD,0.0000542974682915145\n",
      "AaBBccDd,0.0000542974682915145\n",
      "AaBBccdd,0.0000542974682915145\n",
      "AaBbCCDD,0.0000542974682915145\n",
      "AaBbCCDd,0.0000542974682915145\n",
      "AaBbCCdd,0.0000542974682915145\n",
      "AaBbCcDD,0.0000542974682915145\n",
      "AaBbCcDd,1.00000000000000\n",
      "AaBbCcdd,1.00000000000000\n",
      "AaBbccDD,0.0000542974682915145\n",
      "AaBbccDd,1.00000000000000\n",
      "AaBbccdd,1.00000000000000\n",
      "AabbCCDD,0.0000542974682915145\n",
      "AabbCCDd,0.0000542974682915145\n",
      "AabbCCdd,0.0000542974682915145\n",
      "AabbCcDD,0.0000542974682915145\n",
      "AabbCcDd,1.00000000000000\n",
      "AabbCcdd,1.00000000000000\n",
      "AabbccDD,0.0000542974682915145\n",
      "AabbccDd,1.00000000000000\n",
      "Aabbccdd,1.00000000000000\n",
      "aaBBCCDD,0.0000542974682915145\n",
      "aaBBCCDd,0.0000542974682915145\n",
      "aaBBCCdd,0.0000542974682915145\n",
      "aaBBCcDD,0.0000542974682915145\n",
      "aaBBCcDd,0.0000542974682915145\n",
      "aaBBCcdd,0.0000542974682915145\n",
      "aaBBccDD,0.0000542974682915145\n",
      "aaBBccDd,0.0000542974682915145\n",
      "aaBBccdd,0.0000542974682915145\n",
      "aaBbCCDD,0.0000542974682915145\n",
      "aaBbCCDd,0.0000542974682915145\n",
      "aaBbCCdd,0.0000542974682915145\n",
      "aaBbCcDD,0.0000542974682915145\n",
      "aaBbCcDd,1.00000000000000\n",
      "aaBbCcdd,1.00000000000000\n",
      "aaBbccDD,0.0000542974682915145\n",
      "aaBbccDd,1.00000000000000\n",
      "aaBbccdd,1.00000000000000\n",
      "aabbCCDD,0.0000542974682915145\n",
      "aabbCCDd,0.0000542974682915145\n",
      "aabbCCdd,0.0000542974682915145\n",
      "aabbCcDD,0.0000542974682915145\n",
      "aabbCcDd,1.00000000000000\n",
      "aabbCcdd,1.00000000000000\n",
      "aabbccDD,0.0000542974682915145\n",
      "aabbccDd,1.00000000000000\n",
      "aabbccdd,1.00000000000000\n",
      "\n"
     ]
    }
   ],
   "source": [
    "import pytoxo\n",
    "\n",
    "model2 = pytoxo.Model(\n",
    "    genotypes_dict={\n",
    "        \"AABBCCDD\": \"x\",\n",
    "        \"AABBCCDd\": \"x\",\n",
    "        \"AABBCCdd\": \"x\",\n",
    "        \"AABBCcDD\": \"x\",\n",
    "        \"AABBCcDd\": \"x\",\n",
    "        \"AABBCcdd\": \"x\",\n",
    "        \"AABBccDD\": \"x\",\n",
    "        \"AABBccDd\": \"x\",\n",
    "        \"AABBccdd\": \"x\",\n",
    "        \"AABbCCDD\": \"x\",\n",
    "        \"AABbCCDd\": \"x\",\n",
    "        \"AABbCCdd\": \"x\",\n",
    "        \"AABbCcDD\": \"x\",\n",
    "        \"AABbCcDd\": \"x\",\n",
    "        \"AABbCcdd\": \"x\",\n",
    "        \"AABbccDD\": \"x\",\n",
    "        \"AABbccDd\": \"x\",\n",
    "        \"AABbccdd\": \"x\",\n",
    "        \"AAbbCCDD\": \"x\",\n",
    "        \"AAbbCCDd\": \"x\",\n",
    "        \"AAbbCCdd\": \"x\",\n",
    "        \"AAbbCcDD\": \"x\",\n",
    "        \"AAbbCcDd\": \"x\",\n",
    "        \"AAbbCcdd\": \"x\",\n",
    "        \"AAbbccDD\": \"x\",\n",
    "        \"AAbbccDd\": \"x\",\n",
    "        \"AAbbccdd\": \"x\",\n",
    "        \"AaBBCCDD\": \"x\",\n",
    "        \"AaBBCCDd\": \"x\",\n",
    "        \"AaBBCCdd\": \"x\",\n",
    "        \"AaBBCcDD\": \"x\",\n",
    "        \"AaBBCcDd\": \"x\",\n",
    "        \"AaBBCcdd\": \"x\",\n",
    "        \"AaBBccDD\": \"x\",\n",
    "        \"AaBBccDd\": \"x\",\n",
    "        \"AaBBccdd\": \"x\",\n",
    "        \"AaBbCCDD\": \"x\",\n",
    "        \"AaBbCCDd\": \"x\",\n",
    "        \"AaBbCCdd\": \"x\",\n",
    "        \"AaBbCcDD\": \"x\",\n",
    "        \"AaBbCcDd\": \"x*(1+y)\",\n",
    "        \"AaBbCcdd\": \"x*(1+y)\",\n",
    "        \"AaBbccDD\": \"x\",\n",
    "        \"AaBbccDd\": \"x*(1+y)\",\n",
    "        \"AaBbccdd\": \"x*(1+y)\",\n",
    "        \"AabbCCDD\": \"x\",\n",
    "        \"AabbCCDd\": \"x\",\n",
    "        \"AabbCCdd\": \"x\",\n",
    "        \"AabbCcDD\": \"x\",\n",
    "        \"AabbCcDd\": \"x*(1+y)\",\n",
    "        \"AabbCcdd\": \"x*(1+y)\",\n",
    "        \"AabbccDD\": \"x\",\n",
    "        \"AabbccDd\": \"x*(1+y)\",\n",
    "        \"Aabbccdd\": \"x*(1+y)\",\n",
    "        \"aaBBCCDD\": \"x\",\n",
    "        \"aaBBCCDd\": \"x\",\n",
    "        \"aaBBCCdd\": \"x\",\n",
    "        \"aaBBCcDD\": \"x\",\n",
    "        \"aaBBCcDd\": \"x\",\n",
    "        \"aaBBCcdd\": \"x\",\n",
    "        \"aaBBccDD\": \"x\",\n",
    "        \"aaBBccDd\": \"x\",\n",
    "        \"aaBBccdd\": \"x\",\n",
    "        \"aaBbCCDD\": \"x\",\n",
    "        \"aaBbCCDd\": \"x\",\n",
    "        \"aaBbCCdd\": \"x\",\n",
    "        \"aaBbCcDD\": \"x\",\n",
    "        \"aaBbCcDd\": \"x*(1+y)\",\n",
    "        \"aaBbCcdd\": \"x*(1+y)\",\n",
    "        \"aaBbccDD\": \"x\",\n",
    "        \"aaBbccDd\": \"x*(1+y)\",\n",
    "        \"aaBbccdd\": \"x*(1+y)\",\n",
    "        \"aabbCCDD\": \"x\",\n",
    "        \"aabbCCDd\": \"x\",\n",
    "        \"aabbCCdd\": \"x\",\n",
    "        \"aabbCcDD\": \"x\",\n",
    "        \"aabbCcDd\": \"x*(1+y)\",\n",
    "        \"aabbCcdd\": \"x*(1+y)\",\n",
    "        \"aabbccDD\": \"x\",\n",
    "        \"aabbccDd\": \"x*(1+y)\",\n",
    "        \"aabbccdd\": \"x*(1+y)\",\n",
    "    },\n",
    "    model_name=\"model2\",\n",
    ")\n",
    "ptable2 = model2.find_max_prevalence_table(mafs=[0.1] * model2.order, h=0.96)\n",
    "ptable2.print_table(format=\"csv\")"
   ]
  },
  {
   "cell_type": "markdown",
   "metadata": {},
   "source": [
    "## Using two separated lists to input the model\n",
    "\n",
    "As in the previous example, this time we are going to directly rewrite our model data instead of using a CSV file. As we have already explained, PyToxo allows us to select between a unified Python dictionary where we associate genotype definitions and probabilities, or two separate lists (or Numpy arrays): one with the genotype definitions and the other with the associated probabilities. You can even use a list and a Numpy array in combination.\n",
    "\n",
    "In this example we are going to use a Python list and a Numpy array, which would be the case with which we play more variations.\n",
    "\n",
    "Here we also manually name the model, as we explained in the previous example."
   ]
  },
  {
   "cell_type": "code",
   "execution_count": 8,
   "metadata": {
    "pycharm": {
     "name": "#%%\n"
    }
   },
   "outputs": [
    {
     "name": "stdout",
     "output_type": "stream",
     "text": [
      "Attribute names:\tP0\tP1\n",
      "Minor allele frequencies:\t0.100\t0.100\n",
      "x: 0.00150190754739745\n",
      "y: 664.819944598339\n",
      "Prevalence: 0.0375476886849364\n",
      "Heritability: 0.960000000000000\n",
      "\n",
      "Table:\n",
      "\n",
      "0.00150190754739745, 0.00150190754739745, 0.00150190754739745\n",
      "0.00150190754739745, 1.00000000000000, 1.00000000000000\n",
      "0.00150190754739745, 1.00000000000000, 1.00000000000000\n",
      " \n"
     ]
    }
   ],
   "source": [
    "import pytoxo\n",
    "import numpy\n",
    "\n",
    "gen_definitions = [\"AABB\", \"AABb\", \"AAbb\", \"AaBB\", \"AaBb\", \"Aabb\", \"aaBB\", \"aaBb\", \"aabb\"]\n",
    "gen_probabilities = numpy.array(\n",
    "    [\n",
    "        \"x\",\n",
    "        \"x\",\n",
    "        \"x\",\n",
    "        \"x\",\n",
    "        \"x*(1+y)\",\n",
    "        \"x*(1+y)\",\n",
    "        \"x\",\n",
    "        \"x*(1+y)\",\n",
    "        \"x*(1+y)\",\n",
    "    ]\n",
    ")\n",
    "model3 = pytoxo.Model(\n",
    "    definitions=gen_definitions,\n",
    "    probabilities=gen_probabilities,\n",
    "    model_name=\"model3\",\n",
    ")\n",
    "ptable3 = model3.find_max_prevalence_table(mafs=[0.1] * model3.order, h=0.96)\n",
    "ptable3.print_table(format=\"gametes\")"
   ]
  },
  {
   "cell_type": "markdown",
   "metadata": {},
   "source": [
    "## Working with the final penetrance tables\n",
    "\n",
    "In the previous examples we have directly printed the penetrance tables. In addition to printing or saving them to a file, PyToxo allows to work directly with these objects to access their data and easily integrate them into a Python program. Here we illustrate how to handle them.\n",
    "\n",
    "We are going to revisit the already calculated `ptable3`."
   ]
  },
  {
   "cell_type": "code",
   "execution_count": 9,
   "metadata": {
    "pycharm": {
     "name": "#%%\n"
    }
   },
   "outputs": [
    {
     "name": "stdout",
     "output_type": "stream",
     "text": [
      "None\n",
      "2\n",
      "['AABB', 'AABb', 'AAbb', 'AaBB', 'AaBb', 'Aabb', 'aaBB', 'aaBb', 'aabb']\n",
      "[0.00150190754739745,\n",
      " 0.00150190754739745,\n",
      " 0.00150190754739745,\n",
      " 0.00150190754739745,\n",
      " 1.00000000000000,\n",
      " 1.00000000000000,\n",
      " 0.00150190754739745,\n",
      " 1.00000000000000,\n",
      " 1.00000000000000]\n"
     ]
    }
   ],
   "source": [
    "print(ptable3.model_name)\n",
    "print(ptable3.order)\n",
    "\n",
    "# Return genotypes and penetrances values as lists and print them\n",
    "pprint(ptable3.genotypes)\n",
    "pprint(ptable3.penetrance_values)"
   ]
  },
  {
   "cell_type": "markdown",
   "metadata": {},
   "source": [
    "It is also supported to return the genotypes and penetrances values as Numpy arrays.\n",
    "\n",
    "In this example we also calculate the mean of the penetrances of this table, from the Numpy array, just as an example of numerical manipulation of this output."
   ]
  },
  {
   "cell_type": "code",
   "execution_count": 10,
   "metadata": {
    "pycharm": {
     "name": "#%%\n"
    }
   },
   "outputs": [
    {
     "name": "stdout",
     "output_type": "stream",
     "text": [
      "array(['AABB', 'AABb', 'AAbb', 'AaBB', 'AaBb', 'Aabb', 'aaBB', 'aaBb',\n",
      "       'aabb'], dtype='<U4')\n",
      "array([0.00150190754739745, 0.00150190754739745, 0.00150190754739745,\n",
      "       0.00150190754739745, 1.00000000000000, 1.00000000000000,\n",
      "       0.00150190754739745, 1.00000000000000, 1.00000000000000],\n",
      "      dtype=object)\n"
     ]
    },
    {
     "data": {
      "text/plain": "0.445278837526332",
      "text/latex": "$\\displaystyle 0.445278837526332$"
     },
     "execution_count": 10,
     "metadata": {},
     "output_type": "execute_result"
    }
   ],
   "source": [
    "pprint(ptable3.genotypes_as_numpy)\n",
    "penetrances3_as_numpy = ptable3.penetrance_values_as_numpy\n",
    "pprint(penetrances3_as_numpy)\n",
    "\n",
    "# Mean of the returned penetrances array, for doing something...\n",
    "numpy.mean(penetrances3_as_numpy)"
   ]
  }
 ],
 "metadata": {
  "kernelspec": {
   "display_name": "Python 3",
   "language": "python",
   "name": "python3"
  },
  "language_info": {
   "codemirror_mode": {
    "name": "ipython",
    "version": 3
   },
   "file_extension": ".py",
   "mimetype": "text/x-python",
   "name": "python",
   "nbconvert_exporter": "python",
   "pygments_lexer": "ipython3",
   "version": "3.9.0"
  }
 },
 "nbformat": 4,
 "nbformat_minor": 1
}